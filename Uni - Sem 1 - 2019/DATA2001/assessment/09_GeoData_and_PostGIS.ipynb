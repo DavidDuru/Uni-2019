{
 "cells": [
  {
   "cell_type": "markdown",
   "metadata": {},
   "source": [
    "# Tutorial 9:  Working with Geo-Data and PostGIS\n",
    "\n",
    "## Introduction\n",
    "In this tutorial, we will cover working with geo-spatial data, how to import it from different sources such as shape files or web APIs / GeoJSON, and how to store and query geo-spatial data in PostGIS.\n",
    "\n",
    "We will also give a few hints and guidelines at the end of this notebook on which would be helpful tasks to solve for you as part of the practical assignment of a Cyclability study."
   ]
  },
  {
   "cell_type": "markdown",
   "metadata": {},
   "source": [
    "# EXERCISE 1 - Loading GeoSpatial Data from Shapefiles\n",
    "\n",
    "We start with some small example of geo-spatial data avaialble in *shapefile* format. "
   ]
  },
  {
   "cell_type": "markdown",
   "metadata": {},
   "source": [
    "## YOUR TASK 1: Shape file download\n",
    "We have prepared a small example data set about world countries. Your task is to\n",
    " - Download the corresponding shapefiles from Canvas (**wk9_data.zip**);\n",
    " - Uncompress the downloaded zip archive (should result in a data directory with 10 files); and \n",
    " - Upload all included 10 files into your Jupyter server directory, **into a sub-directory *data* **\n",
    " "
   ]
  },
  {
   "cell_type": "markdown",
   "metadata": {},
   "source": [
    "## Loading Shapefile data\n",
    "Next, we want to load this shapfile with Python.\n",
    "\n",
    "Geometry shape files can be parsed with Python using the **pyshp library**.\n",
    "\n",
    "**Documentation**\n",
    "pyshp library: https://github.com/GeospatialPython/pyshp\n",
    "\n",
    "This library returns a **shapefile** object which then can be used to access either the actual **shapes** (geometries) of the file entries, or the associated data **records**.\n",
    "\n",
    "The following Python code\n",
    "   - opens the shapefile\n",
    "   - prints how many shapes it contains\n",
    "   - iterates through its ShapeRecords and prints each record, as well as which shape type it has and how many points the shape has."
   ]
  },
  {
   "cell_type": "code",
   "execution_count": null,
   "metadata": {
    "collapsed": true
   },
   "outputs": [],
   "source": [
    "import shapefile\n",
    "sf = shapefile.Reader(\"data/world.shp\", encoding=\"iso-8859-1\")\n",
    "\n",
    "# which shpe type is it?\n",
    "print(sf)\n",
    "\n",
    "if (sf.shapeType == shapefile.POLYGON):\n",
    "    shapes = sf.shapes()\n",
    "    print(\"#shapes: \",len(shapes))\n",
    "    for shape in shapes:\n",
    "       print(shape.__geo_interface__['type'], len(shape.points), \"points; bounding box:\", shape.bbox)"
   ]
  },
  {
   "cell_type": "markdown",
   "metadata": {},
   "source": [
    "The loaded shapefile data also included some additional attributes. \n",
    "Let's check which fields were loaded besides the actual shapes' geometry:"
   ]
  },
  {
   "cell_type": "code",
   "execution_count": null,
   "metadata": {
    "collapsed": true
   },
   "outputs": [],
   "source": [
    "# get the shape fields but skip first one which is a deletion flag used internally by dbf software\n",
    "sf.fields[1:]"
   ]
  },
  {
   "cell_type": "markdown",
   "metadata": {},
   "source": [
    "Above's output tells us that there are six fields for each shape record; for example, **pop_est** is the estimated population per country and has a numeric ('N') type; **name** is the country name with a minimum length of 0 and a maximum length of 80. \n",
    "\n",
    "Let's have now a look at the corresponding records in the shapefile, just the first ten:"
   ]
  },
  {
   "cell_type": "code",
   "execution_count": null,
   "metadata": {
    "collapsed": true
   },
   "outputs": [],
   "source": [
    "for i in range(0, 10):\n",
    "    print(sf.record(i))"
   ]
  },
  {
   "cell_type": "markdown",
   "metadata": {},
   "source": [
    "# EXERCISE 2: Writing Geo-Shaped Data to a Database and PostGIS Querying\n",
    "Next, we want to see how we can store geometric data in PostgreSQL together with the other record data.\n",
    "\n",
    "For the **PostgreSQL** database access, we will again use the **psycopg2** library which we introduced back in Week 4.\n",
    "In addition, we also will work with PostgreSQL's PostGIS extensions."
   ]
  },
  {
   "cell_type": "markdown",
   "metadata": {},
   "source": [
    "### PostGIS\n",
    "We installed PostGIS on one of our PostgreSQL servers.\n",
    "**Important:** You need to use a different PostgreSQL server than we used so far:  \n",
    "\n",
    "    soit-app-pro-1.ucc.usyd.edu.au\n",
    "\n",
    "You can use the logins than you used so far:  \n",
    "\n",
    "    username: 'y19s1d2x01_'+YOUR_UNIKEY  and pw your SID (student ID)\n",
    "\n",
    "The old postgresql server does *not* support PostGIS.\n",
    "\n",
    "\n",
    "Please edit in the following cell the variables **YOUR_UNIKEY** and **YOUR_PW** to match your own PostgreSQL login."
   ]
  },
  {
   "cell_type": "code",
   "execution_count": null,
   "metadata": {},
   "outputs": [],
   "source": [
    "import psycopg2\n",
    "import psycopg2.extras\n",
    "\n",
    "def pgconnect():\n",
    "    # please replace <your_unikey> and <your_SID> with your own details\n",
    "    YOUR_UNIKEY = 'unikey'#'<your_unikey>'\n",
    "    YOUR_PW     = '123456789'#'<your_SID>'\n",
    "    try: \n",
    "        conn = psycopg2.connect(host='soit-db-pro-1.ucc.usyd.edu.au',\n",
    "                                database='y19s1d2x01_'+YOUR_UNIKEY,\n",
    "                                user='y19s1d2x01_'+YOUR_UNIKEY,\n",
    "                                password=YOUR_PW) \n",
    "        print('connected')\n",
    "    except Exception as e:\n",
    "        print(\"unable to connect to the database\")\n",
    "        print(e)\n",
    "        return None\n",
    "    return conn\n",
    "\n",
    "conn = pgconnect()"
   ]
  },
  {
   "cell_type": "markdown",
   "metadata": {},
   "source": [
    "In the next step, we are looking into how to store the geo-data directly into a PostgreSQL database with PostGIS support. To do so, we copy the following utility function from Week 4 to execute an SQL command there from Python (actually, pgquery() is an improved version of pgexec() from Week 4)."
   ]
  },
  {
   "cell_type": "code",
   "execution_count": null,
   "metadata": {
    "collapsed": true
   },
   "outputs": [],
   "source": [
    "def pgquery( conn, sqlcmd, args=None, msg=False, returntype='tuple'):\n",
    "    \"\"\" utility function to execute some SQL query statement\n",
    "        it can take optional arguments (as a dictionary) to fill in for placeholders in the SQL\n",
    "        will return the complete query result as return value - or in case of error: None\n",
    "        error and transaction handling built-in (by using the 'with' clauses)\"\"\"\n",
    "    retval = None\n",
    "    with conn:\n",
    "        cursortype = None if returntype != 'dict' else psycopg2.extras.RealDictCursor\n",
    "        with conn.cursor(cursor_factory=cursortype) as cur:\n",
    "            try:\n",
    "                if args is None:\n",
    "                    cur.execute(sqlcmd)\n",
    "                else:\n",
    "                    cur.execute(sqlcmd, args)\n",
    "                if (cur.description != None ):\n",
    "                    retval = cur.fetchall() # we use fetchall() as we expect only _small_ query results\n",
    "                if msg != False:\n",
    "                    print(\"success: \" + msg)\n",
    "            except psycopg2.DatabaseError as e:\n",
    "                if e.pgcode != None and msg:\n",
    "                    print(\"db read error: \"+msg)\n",
    "                    print(e)\n",
    "            except Exception as e:\n",
    "                print(e)\n",
    "    return retval"
   ]
  },
  {
   "cell_type": "markdown",
   "metadata": {},
   "source": [
    "Ok, now we are ready to proceed.\n",
    "\n",
    "As usual with databases, we first have to create a schema for our shapefile data.\n",
    "We derive this schema from the field names and types (as seen above) plus a geometry column for the actual shapes:"
   ]
  },
  {
   "cell_type": "code",
   "execution_count": null,
   "metadata": {
    "collapsed": true
   },
   "outputs": [],
   "source": [
    "world_schema = '''CREATE TABLE World (\n",
    "                     pop_est NUMERIC, \n",
    "                     continent VARCHAR(80), \n",
    "                     name VARCHAR(80), \n",
    "                     iso_a3 VARCHAR(80), \n",
    "                     gdp_md_est NUMERIC,\n",
    "                     geom GEOMETRY(Polygon,4326))''' \n",
    "\n",
    "pgquery(conn, \"DROP TABLE World\", msg=\"cleared old table\")\n",
    "pgquery(conn, world_schema, msg=\"created World table\")"
   ]
  },
  {
   "cell_type": "markdown",
   "metadata": {},
   "source": [
    "Notice the **geom** column at the end of the World table specification. This is where we will store the shapefile information for each country. The country's geometries are provided as polygons - we had checked this above in Exercise 1 - hence we give the *geom* attribute a type of **GEOMETRY(Polygon, 4326)**. The number **4326** is the *Spatial Reference Identifier* (SRID) of the WGS84 world geodetic coordinate system that is used by our example data set. This refers to GPS data. Be aware that not all geo-data will use the same reference system. In this case you must choose the correct SRID value - and if you compare geometries with different SRIDs, you need transform them first to the same SRID. This can be done (later) with the *ST_TRANSFORM()* function in PostGIS."
   ]
  },
  {
   "cell_type": "markdown",
   "metadata": {},
   "source": [
    "Once this table has been created, we want to load the world data into this table:"
   ]
  },
  {
   "cell_type": "code",
   "execution_count": null,
   "metadata": {
    "collapsed": true
   },
   "outputs": [],
   "source": [
    "import re\n",
    "\n",
    "insert_stmt = \"\"\"INSERT INTO World VALUES ( %(pop_est)s, %(continent)s, %(name)s, %(iso_a3)s, %(gdp_md_est)s,\n",
    "                                            ST_GEOMFROMTEXT(%(geom)s, 4326) )\"\"\"\n",
    "\n",
    "shapes = sf.shapes()\n",
    "records= sf.records()\n",
    "\n",
    "row = {}\n",
    "for i in range(0, len(shapes)):\n",
    "    record = sf.record(i)\n",
    "    shape  = sf.shape(i)\n",
    "    row['pop_est']=record[0]\n",
    "    row['continent']=record[1]\n",
    "    row['name']=record[2]\n",
    "    row['iso_a3']=record[3]\n",
    "    row['gdp_md_est']=record[4]\n",
    "    print(row)\n",
    "    \n",
    "    # prepare the polygon data\n",
    "    # this is a bit complex with our dataset as it has complex polygons, some with multiple parts...\n",
    "    row['geom']=\"POLYGON((\"\n",
    "    i=0\n",
    "    for x, y in shape.points:\n",
    "       row['geom']+=\"%s %s,\" % (x,y)\n",
    "       # check for start of a new polygon part\n",
    "       i += 1\n",
    "       if i in shape.parts:\n",
    "           row['geom']= re.sub(\",$\", \"),(\", row['geom'])\n",
    "    # properly end the polygon string\n",
    "    row['geom'] = re.sub(\",$\", \"))\", row['geom'])\n",
    "    \n",
    "    # finally: insert new row into the table\n",
    "    pgquery(conn, insert_stmt, args=row, msg=\"inserted \"+str(record[2]))"
   ]
  },
  {
   "cell_type": "markdown",
   "metadata": {},
   "source": [
    "Let's check what data we got loaded so far:"
   ]
  },
  {
   "cell_type": "code",
   "execution_count": null,
   "metadata": {
    "collapsed": true
   },
   "outputs": [],
   "source": [
    "query = \"SELECT COUNT(*) FROM World\"\n",
    "result= pgquery(conn, query, returntype='dict')\n",
    "from pprint import pprint \n",
    "print(result)"
   ]
  },
  {
   "cell_type": "markdown",
   "metadata": {},
   "source": [
    "Next, we look at some example of spatial measurement functions in PostGIS:\n",
    "\n",
    "The following example query finds *the five largest countries in Africa*.\n",
    "\n",
    "What do you think - which African country is actually the largest?"
   ]
  },
  {
   "cell_type": "code",
   "execution_count": null,
   "metadata": {
    "collapsed": true
   },
   "outputs": [],
   "source": [
    "query = \"\"\"SELECT name, ST_Area(geom) AS area \n",
    "             FROM World \n",
    "            WHERE continent='Africa' \n",
    "            ORDER BY area DESC \n",
    "            LIMIT 5\"\"\"\n",
    "result= pgquery(conn, query, returntype='dict')\n",
    "pprint(result)"
   ]
  },
  {
   "cell_type": "markdown",
   "metadata": {},
   "source": [
    "Did you guess correctly? Ok, let's check which countries have a boundary with Algeria.\n",
    "\n",
    "This is an example of a spatial join query where we compare country shapes that come from the same World table.\n",
    "We can use one of the different spatial comparison functions which PostGIS supports, in particluar any of the topological relationships defined buy the *Nine Intersection Model* (cf. lecture slides). \n",
    "\n",
    "Normally, we would expect to use the *ST_TOUCH()* function here - but in our dataset, the boundaries are in low-resolution so that some border shapes actually intersect. Hence we go with the more generic *ST_INTERSECTS()* spatial relationship function:"
   ]
  },
  {
   "cell_type": "code",
   "execution_count": null,
   "metadata": {
    "collapsed": true
   },
   "outputs": [],
   "source": [
    "query = \"\"\"SELECT B.name \n",
    "             FROM World A JOIN World B ON (ST_INTERSECTS(A.geom, B.geom))\n",
    "            WHERE A.name = 'Algeria' AND B.name != A.name\"\"\"\n",
    "result= pgquery(conn, query, returntype='dict')\n",
    "pprint(result)"
   ]
  },
  {
   "cell_type": "markdown",
   "metadata": {},
   "source": [
    "A complete list of the supported spatial measurement and relationship functions you find here:\n",
    "\n",
    "https://postgis.net/docs/reference.html#Spatial_Relationships_Measurements"
   ]
  },
  {
   "cell_type": "markdown",
   "metadata": {},
   "source": [
    "### Spatial Indexing\n",
    "To make processing of such spatial joins a bit faster - especially if you are using larger data set - a spatial index is very helpful. PostgreSQL supports spatial indexing using its **GiST** index. This is documented here: https://postgis.net/docs/using_postgis_dbmanagement.html#idm2246\n",
    "\n",
    "You can create an index on the country shape files with the following SQL command:"
   ]
  },
  {
   "cell_type": "code",
   "execution_count": null,
   "metadata": {
    "collapsed": true
   },
   "outputs": [],
   "source": [
    "index_command = \"CREATE INDEX country_idx ON World USING GIST (geom)\"\n",
    "result= pgquery(conn, index_command, returntype='dict')\n",
    "pprint(result)"
   ]
  },
  {
   "cell_type": "markdown",
   "metadata": {},
   "source": [
    "Queries, especially complex queries and on larger data sets, using the World.geom attribute should now be a bit faster than without this index. try it out."
   ]
  },
  {
   "cell_type": "markdown",
   "metadata": {},
   "source": [
    "## YOUR TASK 2:  Experiment with the PostGIS topological functions\n",
    "\n",
    "Following the above examples, answer the following questions using PostGIS:\n",
    " - Which countries have borders with Germany?\n",
    " - What are the five largest countries in Asia?\n",
    " - What are the three smallest in Asia?"
   ]
  },
  {
   "cell_type": "code",
   "execution_count": null,
   "metadata": {
    "collapsed": true
   },
   "outputs": [],
   "source": [
    "# TODO: Replace this cell with PostGIS SQL queries that \n",
    "#  - find the countries neighboring Germany, and \n",
    "#  - find the five largest countries in Asia, and\n",
    "#  - find the three smallest countries in Asia\n",
    "raise NotImplementedError"
   ]
  },
  {
   "cell_type": "markdown",
   "metadata": {},
   "source": [
    "Never forget to clean up at the end:"
   ]
  },
  {
   "cell_type": "code",
   "execution_count": null,
   "metadata": {
    "collapsed": true
   },
   "outputs": [],
   "source": [
    "# When finished with Postgresql, do not forget to close the connection again:\n",
    "conn.close()"
   ]
  },
  {
   "cell_type": "markdown",
   "metadata": {},
   "source": [
    "## HOMEWORK Task: Spatial Join with Cities\n",
    "\n",
    "The following is homework as there is not enough time to cover it in depth here in the tutorial. \n",
    "**Please continue with EXERCISE 3 during the tutorial lab time.**\n",
    "\n",
    "We also have a cities data set made available on Canvas.\n",
    " - In the *wk9_data.zip* file, that you dopwnloaded earlier, there are also cities.shp files. Make sure that you have uploaded them too into your **data** subdirectory  on your Jupyter notebook server\n",
    " - Write the code to read the shapes from the Cities shapefile\n",
    " - Create a matching table in Postgresql  \n",
    " - Load the cities shapes into that table (tip: this should be easier than before because cities are represented as simple points rather than complex polygons).\n",
    " - Write a PostGIS query that determines which cities are located within the United States."
   ]
  },
  {
   "cell_type": "markdown",
   "metadata": {},
   "source": [
    "### HOMEWORK for Students in DATA2901 (Adv)\n",
    "Solve the same questions from above using GeoPandas (Note: we do not have GeoPandas installed on the central Jupyter server; you hence will need to install GeoPandas on your own computer).\n",
    " - Which distinct continents are listed in the World data set?\n",
    " - Plot/map all European countries.\n",
    " - Plot/map the countries that are either in Europe and in Asia.\n",
    " - Can you write a new shapefile with just the European countries?"
   ]
  },
  {
   "cell_type": "markdown",
   "metadata": {},
   "source": [
    "# EXERCISE 3 - Collecting Geo-Data for Neighbourhoods"
   ]
  },
  {
   "cell_type": "markdown",
   "metadata": {},
   "source": [
    "In the practical assignment, you are asked to combine several datasets about *neighbourhoods*.\n",
    "While the statistical data from the ABS share the same neighbourhood ID, the example dataset about transport options - the bike-sharing pods - does not have this ID, nor do the names match between bike-sharing pod locations and neighbourhoods.\n",
    "The bike-sharing pods do have a GPS location though...\n",
    "\n",
    "**Background:** This is a simulated dataset. Assume bicycle pods are dedicated places where publicly shared bicycles and scooters can be found. Users can take a bicycle or scooter from one station, cycle around, and return them at the same or at another location - similar to the public bike-sharing facilities in Melbourne, London, or New York. Users pay for the time duration of the bicycle usage.\n",
    "\n",
    "In order to associate bicyle pods with the other data on neighbourhoods, we need to collect some spatial data for the neighbourhoods too. This is covered in the subsequent exercises in this tutorial."
   ]
  },
  {
   "cell_type": "markdown",
   "metadata": {},
   "source": [
    "Our goal in this first exercise is to extract the saptial boundaries of each Sydney neighbourhood (to be precise: of each SA2-level area in Greater Sydney) from the ABS website: http://stat.abs.gov.au/\n",
    "\n",
    "The ABS collects census data in different granularities. We will work with the Statistical Area 2 (SA2) data which roughly corresponds to neighbourhoods of one or two suburbs. The level on top would be SA3 data. For example, *Darlinghurst* is a SA2 area which lies within the wider SA3 area *Sydney Inner City*, which in turn belongs to the SA4 area *Sydney - City and Inner South*, which is part of the Greater Capital City Statistical Area (GCCSA) of *Greater Sydney* in the state of *New South Wales*.\n",
    "\n",
    "You can check the location and boundary of the various ABS areas here (choose \"2016 Statistical Area Level 2 (SA2)\" in the selector):\n",
    "http://stat.abs.gov.au/itt/r.jsp?ABSMaps\n",
    "\n",
    "In the following, we will look at two alternative approaches how to enrich the given ABS statistic data sets (from the assignment specification) with corresponding geo-boundaries per neighbourhood."
   ]
  },
  {
   "cell_type": "markdown",
   "metadata": {},
   "source": [
    "## Approach 1: Download SA2 Boundary Data\n",
    "A first approach to get the actual boundary data is to download the boundary data shapefiles directly from here:\n",
    "\n",
    "http://www.abs.gov.au/AUSSTATS/abs@.nsf/DetailsPage/1270.0.55.001July%202016?OpenDocument#Data\n",
    "\n",
    "For example, on this page, the specific boundary data\n",
    "**Statistical Area Level 2 (SA2) ASGS Ed 2016 Digital Boundaries MapInfo** is available directly in three different formats: **ESRI shapfile Format**, **TAB File Format**, and **MapInfo Interchange Format**.\n",
    "\n",
    "These files can be downloaded and then parsed with Python using the **pyshp library**  (as discussed in the first exercise) - and loaded, for example, into PostgreSQL as we have done before. The PostGIS extension allows to store geo-data with the correct *spatial reference system* (Note: the SRID has to refer to **AGD94 in this case with data from the ABS**)."
   ]
  },
  {
   "cell_type": "markdown",
   "metadata": {},
   "source": [
    "## YOUR TASK 3: Download and Inspect SA2 Boundary Shapefile\n",
    "\n",
    " - Download from ABS website the shapefile for australian SA2 areas (1270055001_sa2_2016_aust_shape.zip)\n",
    " - Upload the content of this zip archive to your folder on the jupyter server\n",
    " - Write a Python program to \n",
    "   - open the shapefile\n",
    "   - print how many shapes it contains\n",
    "   - iterate through its ShapeRecords and print each record, as well as which shape type it has and how many points the shape has."
   ]
  },
  {
   "cell_type": "code",
   "execution_count": null,
   "metadata": {
    "collapsed": true
   },
   "outputs": [],
   "source": [
    "# TODO: download one of the boundary files from above's website\n",
    "#       then iterate through the records in that file\n",
    "#       and check its content -> and ultimately try to load into PostgreSQL\n",
    "raise NotImplementedError"
   ]
  },
  {
   "cell_type": "markdown",
   "metadata": {
    "collapsed": true,
    "scrolled": true
   },
   "source": [
    "## Approach 2: Retrieve Boundary Data using Web APIs\n",
    "\n",
    "In the second approach, we are looking at some examples on how to access web APIs which are specifically provided for program to retrieve data. \n",
    "\n",
    "These services use typically one of two different formats - either JSON or XML.\n",
    "\n",
    "For **JSON**, we will use the standard language support in Python and its **request** library.<br>\n",
    "For **XML**, we will use the **lxml** parser library."
   ]
  },
  {
   "cell_type": "markdown",
   "metadata": {},
   "source": [
    "### OpenStreetMap Web API\n",
    "The OpenStreetMap Wep-API allows to convert a location address to a GPS location (and some information more, optionally even with full boundaries of suburbs or cities). The following example looks up the GPS location as well as the boundary polygon of the suburb 'Darlington' at \"Darlington, New South Wales, Australia\":"
   ]
  },
  {
   "cell_type": "code",
   "execution_count": null,
   "metadata": {},
   "outputs": [],
   "source": [
    "# Lookup of a given address via OpenStreetMap Web-API:\n",
    "import requests\n",
    "import json\n",
    "base_url = 'https://nominatim.openstreetmap.org/search'\n",
    "my_params= {'q': 'Darlington, Sydney, NSW, Australia','format':'json','limit':'1'}\n",
    "response = requests.get(base_url, params = my_params)\n",
    "\n",
    "# let us see the raw JSON response\n",
    "print(json.dumps(response.json(), indent=4, sort_keys=False))"
   ]
  },
  {
   "cell_type": "markdown",
   "metadata": {},
   "source": [
    "Sometimes the submitted query address is not clearly specified and multiple potential locations might be returned. This is actually quite common, and OpenStreetMaps hence includes a **importance** value in its response which roughly represents how well a given location matches the given query string.\n",
    "\n",
    "In the previous request, we actually only considered (and trusted) the first location returned - we had limited the response to just one match by setting a **limit:1** parameter. If you omit this limit, you can receive actually up-to 10 matches of various importance.\n",
    "\n",
    "Let's look at this in the following example, where we made the query a bit more generic by just looking for a suburb or city 'Darlington', but without mentioning Sydney. At the same time, this also demonstrates how you can extract single values from a JSON web service response. This allows us to list the differnt matches in a more compact form than to pretty-dump the original longish JSON structure."
   ]
  },
  {
   "cell_type": "code",
   "execution_count": null,
   "metadata": {
    "scrolled": true
   },
   "outputs": [],
   "source": [
    "# Lookup detailed boundary of a given address via OpenStreetMap Web-API with multiple potential matches\n",
    "my_params= {'q': 'Darlington, NSW, Australia','format':'json'}\n",
    "response = requests.get(base_url, params = my_params)\n",
    "matches  = response.json()\n",
    "num_matches = len(matches)\n",
    "\n",
    "print(my_params['q'])\n",
    "print(\"OpenStreetMaps returned\", num_matches, \"potential locations for the given query string.\")\n",
    "for i in range(0,num_matches):\n",
    "    match_name     = matches[i]['display_name']\n",
    "    match_latitude = matches[i]['lat']\n",
    "    match_longitude= matches[i]['lon']\n",
    "    #match_type     = matches[i]['type']\n",
    "    #match_bounds   = matches[i]['boundingbox']\n",
    "    match_confidence=matches[i]['importance']\n",
    "    print(i, \".\", match_name, match_latitude, match_longitude, \" importance:\", match_confidence)"
   ]
  },
  {
   "cell_type": "markdown",
   "metadata": {},
   "source": [
    "The Web API from OpenStreetMap supports multiple different parameters:\n",
    "\n",
    "| parameter | description |\n",
    "| :--- | :--- |\n",
    "| **format**=[**html** &vert; xml &vert; json &vert; jsonv2] | Output format, default = html|\n",
    "| **q**=*query*                         | Query string to search for. Alternatively can be entered as:|\n",
    "| &nbsp;                                | **street**=*housenumber* *streetname* |\n",
    "| &nbsp;                                | **city**=*city* |\n",
    "| &nbsp;                                | **county**=*county* |\n",
    "| &nbsp;                                | **state**=*state* |\n",
    "| &nbsp;                                | **country**=*country* |\n",
    "| &nbsp;                                | **postalcode**=*postalcode* |\n",
    "| **limit**=*integer*                   | Limit the number of returned results. Default is 10.|\n",
    "| **polygon_geojson**=1                 | Output geometry of results in geojson format. |\n",
    "| **polygon_kml**=1                     | Output geometry of results in kml format.|\n",
    "\n",
    "\n",
    "Further deatils can be found here: https://wiki.openstreetmap.org/wiki/Nominatim"
   ]
  },
  {
   "cell_type": "markdown",
   "metadata": {},
   "source": [
    "The following slightly extended example retrieves not just the bounding box, but the full detailed polygon boundary of Darlington from the OpenStreetMap API using an additional **polygon_geojson:1** parameter with the API request:"
   ]
  },
  {
   "cell_type": "code",
   "execution_count": null,
   "metadata": {},
   "outputs": [],
   "source": [
    "# Lookup detailed boundary of a given address via OpenStreetMap Web-API with 'polygon_geojson' turned on\n",
    "my_params= {'q': 'Darlington, Sydney, NSW, Australia','limit':'1','format':'json','polygon_geojson': '1'}\n",
    "response = requests.get(base_url, params = my_params)\n",
    "\n",
    "results      = response.json()\n",
    "nhood_boundary_type = results[0]['geojson']['type']\n",
    "nhood_boundary_exact= results[0]['geojson']['coordinates']\n",
    "print(my_params['q'])\n",
    "print(\"Location: \", nhood_geo_lat, nhood_geo_lon)\n",
    "print(\"Exact Boundary: \", nhood_boundary_type, nhood_boundary_exact)"
   ]
  },
  {
   "cell_type": "markdown",
   "metadata": {},
   "source": [
    "## YOUR TASK 4: Retrieve Geo-Locations and Boundaries for given Neighbourhoods\n",
    "\n",
    "- Use the OpenStreetMap Web-Api to retrieve the *GPS boundary* of the neighbourhoods as listed in the assignment data in 'Neighbourhoods.csv' \n",
    "- For this you might need to inspect first how the JSON response is structured: Hence do first a pretty-print of the corresponding JSON response data.\n",
    "- Tip: Please do not send too many requests too fast to the OpenStreetMap service. There is a request limit of 1 request/sec by this service which you need to honour to avoid to be blocked.\n",
    "- Tip: if you want to see a map for a given GPS location, try: https://www.latlong.net/"
   ]
  },
  {
   "cell_type": "code",
   "execution_count": null,
   "metadata": {
    "collapsed": true
   },
   "outputs": [],
   "source": [
    "# TODO: replace the content of this cell with your Python solution\n",
    "raise NotImplementedError"
   ]
  },
  {
   "cell_type": "markdown",
   "metadata": {},
   "source": [
    "# ASSIGNMENT PREPARATION 1: Writing Geo-Shaped Data to a Database\n",
    "Lets finally store the extracted boundaries in PostgreSQL together with the other data about neighbourhoods.\n",
    "\n",
    "For the **PostgreSQL** database output, use the **psycopg2** library as we used already in Week 4, as well as the new PostGIS server on  \n",
    "\n",
    "**soit-db-pro-1.ucc.usyd.edu.au**"
   ]
  },
  {
   "cell_type": "markdown",
   "metadata": {},
   "source": [
    "## YOUR TASK: Store Neighbourhood Boundaries in Database\n",
    "Your task is as follows:\n",
    "* Extend the table with your neighbourhood data, which matches the CSV files from Canvas about assignment 1, so that it can also store the geo-boundaries of a neighbourhood.\n",
    "* Insert/Update the extracted information of the neighbourhood boundaries in that table\n",
    "* Be careful to specify the correct SRID which matches your dataset (depending on whether it is coming from the ABS or OpenStreetMap; both use different spatial reference systems).\n",
    "* Tip: Whenever possible, use PostGIS (soit-db-pro-1.ucc.usyd.edu.au) which is documented here:  https://postgis.net/docs/\n",
    "* Postgresql has also some internal geometry data types which can be helpful too - though be careful, they do not support different spatial reference systems, hence are not really suitable for geo-data, especially if this data comes from different sources with different coordinate systems: https://www.postgresql.org/docs/9.5/static/datatype-geometric.html\n",
    "\n",
    "**Note:** as this is essentially an sub-task of the practical assignment, we will not provide an example solution for this step."
   ]
  },
  {
   "cell_type": "code",
   "execution_count": null,
   "metadata": {
    "collapsed": true
   },
   "outputs": [],
   "source": [
    "# TODO: replace the content of this cell with your Python + SQL solution\n",
    "raise NotImplementedError"
   ]
  },
  {
   "cell_type": "markdown",
   "metadata": {},
   "source": [
    "# ASSIGNMENT PREPARATION 2: Spatial Join between Bike-sharing Pods and Neighbourhoods\n",
    "\n",
    "The next step in your assignment would then be a spatial join between the bike-sharing locations and the neighbourhood boundaries."
   ]
  },
  {
   "cell_type": "markdown",
   "metadata": {},
   "source": [
    "## YOUR TASK: Spatial Join between bike-sharing pods and neighbourhoods\n",
    "Your task is as follows:\n",
    "* Check with the postgresql documentation on how to do a spatial join\n",
    "* Query in SQL for each bike-sharing pod in which neighbourhood it is located; if you have the boundaries then you can check for containment; otherwise you might need to look for the shortest distance between the pod location and the centre of a neighbourhood.\n",
    "* It might be a good idea to store the computed relationships between pods and neighbourhoods in the database too.\n",
    "* Tip: PostgreSQL supports a number of spatial functions for points and other geometry types: https://www.postgresql.org/docs/9.5/static/functions-geometry.html \n",
    "* Tip 2: We also have installed the PostGIS extension on the  soit-db-pro-1.ucc.usyd.edu.au  server.\n",
    "   This allows for more control and native support for geo-spatial data. Documentation of PostGIS: http://postgis.net/documentation\n",
    "* Be aware of the different spatial reference systems used by the ABS data and by our own provided data or OpenStreetMap. You might need to use a transformation first before comapring geo-data from different sources using the *ST_TRANSFORM()* function of PostGIS (https://postgis.net/docs/ST_Transform.html).\n",
    "* If you have a lot of data, this spatial join definitly will benefit from a spatial index...\n",
    "   \n",
    "   \n",
    "**Note:** as this is essentially an sub-task of the practical assignment, we will not provide an example solution for this step."
   ]
  },
  {
   "cell_type": "code",
   "execution_count": null,
   "metadata": {
    "collapsed": true
   },
   "outputs": [],
   "source": [
    "# TODO: replace the content of this cell with your Python + SQL solution\n",
    "raise NotImplementedError"
   ]
  },
  {
   "cell_type": "markdown",
   "metadata": {},
   "source": [
    "# References\n",
    "\n",
    "Books:\n",
    "- Seppe van den Broucke and Bart Baesens: \"Practical Web Scraping for Data Science\", Springer 2018. (available electroinically via USYD library)\n",
    "- PostGIS: http://postgis.net/documentation\n",
    "- Shapefile import: https://github.com/GeospatialPython/pyshp\n",
    "- OpenStreetMap Web API:  https://wiki.openstreetmap.org/wiki/Nominatim"
   ]
  },
  {
   "cell_type": "markdown",
   "metadata": {},
   "source": [
    "# End of Tutorial. Many Thanks."
   ]
  }
 ],
 "metadata": {
  "kernelspec": {
   "display_name": "Python 3",
   "language": "python",
   "name": "python3"
  },
  "language_info": {
   "codemirror_mode": {
    "name": "ipython",
    "version": 3
   },
   "file_extension": ".py",
   "mimetype": "text/x-python",
   "name": "python",
   "nbconvert_exporter": "python",
   "pygments_lexer": "ipython3",
   "version": "3.6.8"
  }
 },
 "nbformat": 4,
 "nbformat_minor": 1
}
