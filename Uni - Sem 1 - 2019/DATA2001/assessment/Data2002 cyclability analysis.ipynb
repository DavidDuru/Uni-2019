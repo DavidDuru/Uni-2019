{
 "cells": [
  {
   "cell_type": "code",
   "execution_count": 3,
   "metadata": {},
   "outputs": [
    {
     "name": "stdout",
     "output_type": "stream",
     "text": [
      "beans beans beans beans\n",
      "memes\n",
      "memes\n",
      "memes\n",
      "memes\n",
      "memes\n",
      "memes\n",
      "memes\n",
      "memes\n",
      "memes\n",
      "memes\n"
     ]
    }
   ],
   "source": [
    "#Aidan's part\n",
    "\n",
    "print(\"beans beans beans beans\")\n",
    "\n",
    "\n",
    "while i < 10:\n",
    "    print(\"memes\")\n",
    "    i+=1\n",
    "\n"
   ]
  },
  {
   "cell_type": "code",
   "execution_count": null,
   "metadata": {},
   "outputs": [],
   "source": [
    "#Michael R's part"
   ]
  },
  {
   "cell_type": "code",
   "execution_count": null,
   "metadata": {},
   "outputs": [],
   "source": [
    "#Michael J's part"
   ]
  }
 ],
 "metadata": {
  "kernelspec": {
   "display_name": "Python 3",
   "language": "python",
   "name": "python3"
  },
  "language_info": {
   "codemirror_mode": {
    "name": "ipython",
    "version": 3
   },
   "file_extension": ".py",
   "mimetype": "text/x-python",
   "name": "python",
   "nbconvert_exporter": "python",
   "pygments_lexer": "ipython3",
   "version": "3.6.7"
  }
 },
 "nbformat": 4,
 "nbformat_minor": 2
}
