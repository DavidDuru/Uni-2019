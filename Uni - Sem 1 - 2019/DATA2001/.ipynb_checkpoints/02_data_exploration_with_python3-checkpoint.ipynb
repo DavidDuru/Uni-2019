{
 "cells": [
  {
   "cell_type": "markdown",
   "metadata": {},
   "source": [
    "# Data Exploration with Python\n",
    "\n",
    "## EXERCISE 1: Reading and Accessing Data\n",
    "\n",
    "### Read the survey response data\n",
    "\n",
    "The `csv` module supports reading and writing of files in comma-separated values (CSV) and similar formats. We use `DictReader` since the first row of our survey responses file is a header. This produces a list of dictionaries, one dictionary per each individual survey response. \n",
    "\n",
    "A _dictionary_ is a data structure in Python that can hold key-value pairs, where we can lookup values by their key (typically a string). \n",
    "\n",
    "The `pprint` command below prints the dictionary corresponding the the first response."
   ]
  },
  {
   "cell_type": "code",
   "execution_count": null,
   "metadata": {
    "collapsed": true
   },
   "outputs": [],
   "source": [
    "import csv\n",
    "with open('programming_experience_survey_2019.csv') as csvfile:\n"
   ]
  },
  {
   "cell_type": "markdown",
   "metadata": {},
   "source": [
    "### Let's define constants for dictionary keys\n",
    "\n",
    "Before moving on, let's define constants for the keys of this dictionary that will make it a bit easier to use. In our case, the keys are simply the questions from our survey in Week 1."
   ]
  },
  {
   "cell_type": "code",
   "execution_count": null,
   "metadata": {
    "collapsed": true
   },
   "outputs": [],
   "source": [
    "# TODO For you\n",
    "raise NotImplementedError"
   ]
  },
  {
   "cell_type": "markdown",
   "metadata": {},
   "source": [
    "### Accessing data values\n",
    "\n",
    "This allows us to access cells in a row using the column name as a key. For example, the following prints the number of years professional experience for the first respondent. Note that the csv module reads all values as strings."
   ]
  },
  {
   "cell_type": "code",
   "execution_count": null,
   "metadata": {
    "collapsed": true
   },
   "outputs": [],
   "source": [
    "# TODO For you\n",
    "raise NotImplementedError"
   ]
  },
  {
   "cell_type": "markdown",
   "metadata": {},
   "source": [
    "## TODO for you\n",
    "Display the 9th, 15th, 31th and the 2nd last record of the dictionary (hint: follow the python codes in the lecture slides)."
   ]
  },
  {
   "cell_type": "code",
   "execution_count": null,
   "metadata": {
    "collapsed": true
   },
   "outputs": [],
   "source": [
    "# TODO For you\n",
    "raise NotImplementedError"
   ]
  },
  {
   "cell_type": "markdown",
   "metadata": {},
   "source": [
    "## EXERCISE 2: Data Cleaning and Conversion\n",
    "\n",
    "### 2a) Encoding Python Programming Experience\n",
    "\n",
    "Write some Python code that considers the provided levels of Python experience and encodes each level to a corresponding integer number from 1 to 5."
   ]
  },
  {
   "cell_type": "code",
   "execution_count": null,
   "metadata": {
    "collapsed": true
   },
   "outputs": [],
   "source": [
    "# TODO For you\n",
    "raise NotImplementedError"
   ]
  },
  {
   "cell_type": "markdown",
   "metadata": {},
   "source": [
    "### 2b)  Counting ProgLang Competencies\n",
    "\n",
    "Define the cardinality for each respondent by considering responses in regards to their experience described in ’other programming languages competency’. For example, a response like ’C#, Java, Javascript/ECMAScript, Matlab’ = 4, ’Matlab,R’ = 2, ... likewise. "
   ]
  },
  {
   "cell_type": "code",
   "execution_count": null,
   "metadata": {
    "collapsed": true,
    "scrolled": true
   },
   "outputs": [],
   "source": [
    "# TODO For you\n",
    "raise NotImplementedError"
   ]
  },
  {
   "cell_type": "markdown",
   "metadata": {},
   "source": [
    "### 2c) Counting RDBMS Competencies\n",
    "\n",
    "Define the cardinality for each respondent by considering responses in regards to their RDBMS experience described in the 'Relational Database Competency’ column (e.g., ’Microsoft Access, Microsoft SQL Server, Oracle, PostgreSQL’ = 4, ’MySQL, PostgreSQL’ = 2). Define a new list as well and name it as ’Number of SQL Competencies’."
   ]
  },
  {
   "cell_type": "code",
   "execution_count": null,
   "metadata": {
    "collapsed": true
   },
   "outputs": [],
   "source": [
    "# TODO For you\n",
    "raise NotImplementedError"
   ]
  },
  {
   "cell_type": "markdown",
   "metadata": {},
   "source": [
    "### 2d) Encoding SQL Experience\n",
    "\n",
    "Encode the column ’SQL Competency’ into integer levels of a five-level Likert scale "
   ]
  },
  {
   "cell_type": "code",
   "execution_count": null,
   "metadata": {
    "collapsed": true
   },
   "outputs": [],
   "source": [
    "# TODO For you\n",
    "raise NotImplementedError"
   ]
  },
  {
   "cell_type": "markdown",
   "metadata": {},
   "source": [
    "### 2e) Cleaning Tutorial Classes Answers\n",
    "\n",
    "Define a Python method to clean the ’Tutorial class’ column by analysing the texts in cells as follows (it will be written in all kinds of variants, tae the following as a general mapping):\n",
    "\n",
    "- SIT Lab 115 (Friday 8am-10am) = F08A\n",
    "- SIT Lab 114 advanced (Friday 8am-10am) = F08ADV\n",
    "- SIT Lab 115 (Friday 10am-12pm) = F10A\n",
    "- Madsen Lab (Friday 10am-12pm) = F10B\n",
    "- SIT Lab 114 advanced (Friday 10am-12pm) = F10ADV\n",
    "- SIT Lab 115 (Friday 12-2pm) = F12A\n",
    "- SIT Lab 114 (Friday 12-2pm) = F12B\n",
    "- Madsen Lab(Friday 12-2pm) = F12C\n",
    "- SIT Lab 115 (Friday 2-4pm) = F14A\n",
    "- SIT Lab 130A (Friday 2-4pm) = F14B\n",
    "- SIT Lab 115 (Friday 4-6pm) = F16A\n",
    "\n",
    "All strings need to be cleaned and converted such that this column contains only the given (F08A, F10A, F12A, ..., F16A) codes. All values which do not fit into this pattern (e.g. a single ”Yes” answer) should be convert to ’NA’."
   ]
  },
  {
   "cell_type": "code",
   "execution_count": null,
   "metadata": {
    "collapsed": true,
    "scrolled": true
   },
   "outputs": [],
   "source": [
    "# TODO For you\n",
    "raise NotImplementedError"
   ]
  },
  {
   "cell_type": "markdown",
   "metadata": {},
   "source": [
    "## EXERCISE 3: Analysing Date and Time\n",
    "\n",
    "Display the time component of the ’Submitted’ column by ignoring the date part for the first and last 10 records (rows).\n",
    "For example, 2018-03-13 23:41:57 should be interpreted as\n",
    "Hour: 23\n",
    "Minute: 41 Second: 57"
   ]
  },
  {
   "cell_type": "code",
   "execution_count": null,
   "metadata": {
    "collapsed": true
   },
   "outputs": [],
   "source": [
    "# TODO For you\n",
    "raise NotImplementedError"
   ]
  },
  {
   "cell_type": "markdown",
   "metadata": {},
   "source": [
    "## EXERCISE 4: Data Visualisations\n",
    "\n",
    "### 4(a) Frequency Plot of Programming Experience\n",
    "Show a frequency plot of the 'Programming Experience' as given by the respondents. In this plot, the x-axis should contain the experience in years (1, 2, 3, 4, 5...) and y-axis should contain how many respondents have programming experience of the corresponding duration.\n"
   ]
  },
  {
   "cell_type": "code",
   "execution_count": null,
   "metadata": {
    "collapsed": true
   },
   "outputs": [],
   "source": [
    "# TODO For you\n",
    "raise NotImplementedError"
   ]
  },
  {
   "cell_type": "markdown",
   "metadata": {},
   "source": [
    "### 4(b) Boxplot of Number of Languages Competencies and Number of SQL Competencies\n",
    "\n",
    "how box plots of the two lickert-scale lists you defined above ('Number of Languages Competencies' and 'Number of SQL Competencies')"
   ]
  },
  {
   "cell_type": "code",
   "execution_count": null,
   "metadata": {
    "collapsed": true
   },
   "outputs": [],
   "source": [
    "# TODO For you\n",
    "raise NotImplementedError"
   ]
  },
  {
   "cell_type": "markdown",
   "metadata": {},
   "source": [
    "### 4(c) Optional and advanced: Histogram of Number of Students per Degree \n",
    "\n",
    "Visualize the number students per degree (e.g., how many students are enrolled in computer science degree) as a histogram plot.\n"
   ]
  },
  {
   "cell_type": "code",
   "execution_count": null,
   "metadata": {
    "collapsed": true
   },
   "outputs": [],
   "source": [
    "# TODO For you\n",
    "raise NotImplementedError"
   ]
  }
 ],
 "metadata": {
  "kernelspec": {
   "display_name": "Python 3",
   "language": "python",
   "name": "python3"
  },
  "language_info": {
   "codemirror_mode": {
    "name": "ipython",
    "version": 3
   },
   "file_extension": ".py",
   "mimetype": "text/x-python",
   "name": "python",
   "nbconvert_exporter": "python",
   "pygments_lexer": "ipython3",
   "version": "3.7.1"
  }
 },
 "nbformat": 4,
 "nbformat_minor": 1
}
